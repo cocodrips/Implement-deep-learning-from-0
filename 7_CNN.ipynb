{
 "cells": [
  {
   "cell_type": "code",
   "execution_count": 3,
   "metadata": {
    "collapsed": false
   },
   "outputs": [],
   "source": [
    "import sys, os\n",
    "sys.path.append('deep-learning-from-scratch')\n",
    "\n",
    "import numpy as np\n",
    "import matplotlib.pyplot as plt\n",
    "import matplotlib.cm as cm\n",
    "\n",
    "%matplotlib inline"
   ]
  },
  {
   "cell_type": "markdown",
   "metadata": {},
   "source": [
    "# 畳み込みNN\n",
    "\n",
    "画像認識、音声認識に使われる。\n",
    "\n",
    "今までのNNは全結合といい、隣接する層の全てのニューロンで結合があった。(Affineレイヤ)\n",
    "\n",
    "CNNでは、\n",
    "\n",
    "- 「covolutionレイヤ」\n",
    "- 「活性化関数のレイヤ」\n",
    "- 「poolingレイヤ」\n",
    "\n",
    "という流れになる\n",
    "\n",
    "出力に近い層では、これまでのAffineレイヤ＋ReLUが用いられ、\n",
    "最後の出力層ではAffine+Softmaxという組み合わせがよく用いられる。\n",
    "\n",
    "全結合の問題点は、データの形状が無視されてしまうこと。\n",
    "\n",
    "### Conolution層(畳み込み層) \n",
    "ここでは形状が維持される。画像の場合は3次元データっとして入力を受取、次の層へ渡す。\n",
    "\n",
    " CNNでは、畳み込み層の入出力データを「特徴マップ」と呼ぶ。\n",
    " 入力データを「入力特徴マップ」出力データを「出力特徴マップ」。\n",
    " \n",
    "### padding\n",
    " \n",
    " データの端っこに固定データを置くことで、出力データのサイズを調整する\n",
    " \n",
    " \n",
    "### ストライド\n",
    "\n",
    "フィルタを適用する位置の間隔。 (いくつずつずらしていくか)\n",
    "\n",
    "### プーリング層\n",
    "\n",
    "縦横の空間を小さくする演算\n",
    "\n",
    "#### Maxプーリング\n",
    "区画の中で一番大きな価を採用する\n",
    "\n",
    "#### プーリング層の特徴\n",
    "\n",
    "- 学習するパラメータが無い\n",
    "- チャンネル数は変化しない\n",
    "- 微小な位置の変化にロバスト\n",
    "\n",
    "## Convolution/Poolingレイヤの実装\n",
    "\n",
    "(10, 1, 28, 28):　28 x 28　で1チャンネルのデータが10個あるということ\n",
    "\n",
    "CNNではこのように4次元データを扱っていく\n",
    "\n",
    "\n",
    "\n",
    "\n"
   ]
  },
  {
   "cell_type": "code",
   "execution_count": 12,
   "metadata": {
    "collapsed": false
   },
   "outputs": [
    {
     "data": {
      "text/plain": [
       "array([[[[  8.01936398e-01,   2.38932919e-01,   5.33330968e-01,\n",
       "            8.59232236e-01,   9.31647153e-01],\n",
       "         [  3.18487999e-01,   7.75237934e-01,   9.85999465e-02,\n",
       "            9.55828628e-01,   5.51337750e-01],\n",
       "         [  9.28949661e-01,   5.35015357e-01,   5.52705007e-01,\n",
       "            3.96487482e-01,   6.67635726e-01],\n",
       "         [  3.72904590e-01,   9.55926636e-01,   8.73171904e-01,\n",
       "            5.30996854e-02,   7.24388449e-01],\n",
       "         [  2.83660739e-01,   8.56477809e-01,   2.10165412e-01,\n",
       "            2.22770795e-01,   2.75942377e-01]]],\n",
       "\n",
       "\n",
       "       [[[  7.50638528e-01,   1.93023507e-01,   9.74806351e-01,\n",
       "            6.76417337e-01,   1.22456275e-01],\n",
       "         [  8.04982432e-01,   7.40779482e-01,   7.78837038e-01,\n",
       "            8.73085972e-01,   3.57306549e-01],\n",
       "         [  7.12063053e-01,   8.18995367e-01,   4.99587257e-01,\n",
       "            8.31199473e-01,   8.76681874e-01],\n",
       "         [  8.54726009e-01,   1.26505465e-01,   4.06345400e-01,\n",
       "            6.14133572e-01,   3.52424203e-01],\n",
       "         [  5.72783773e-01,   5.14868520e-01,   6.00619149e-01,\n",
       "            3.25370154e-01,   4.20181869e-01]]],\n",
       "\n",
       "\n",
       "       [[[  7.78222359e-01,   8.84418788e-01,   2.41417641e-01,\n",
       "            4.97784579e-01,   2.49265505e-01],\n",
       "         [  1.91743972e-05,   9.96142635e-01,   7.07299837e-02,\n",
       "            3.82330950e-01,   6.63254481e-01],\n",
       "         [  4.63471560e-02,   8.71855710e-01,   5.73414681e-01,\n",
       "            7.66003206e-01,   9.14254476e-01],\n",
       "         [  6.69396083e-02,   8.09198581e-02,   7.87758898e-01,\n",
       "            3.65688865e-01,   6.43369025e-01],\n",
       "         [  3.29434535e-01,   4.23335958e-01,   1.87399822e-01,\n",
       "            8.63635282e-01,   4.99952251e-01]]]])"
      ]
     },
     "execution_count": 12,
     "metadata": {},
     "output_type": "execute_result"
    }
   ],
   "source": [
    "x = np.random.rand(3, 1, 5, 5)\n",
    "x"
   ]
  },
  {
   "cell_type": "code",
   "execution_count": 11,
   "metadata": {
    "collapsed": false
   },
   "outputs": [
    {
     "data": {
      "text/plain": [
       "array([[ 0.19207596,  0.08360162,  0.83104358,  0.1156216 ,  0.08232693],\n",
       "       [ 0.75027477,  0.00384508,  0.08761624,  0.39792277,  0.25608106],\n",
       "       [ 0.03915868,  0.80513211,  0.86443946,  0.5710307 ,  0.05639113],\n",
       "       [ 0.90264263,  0.71361141,  0.57363867,  0.10336496,  0.3743136 ],\n",
       "       [ 0.64801287,  0.04098883,  0.32367462,  0.91809708,  0.0178714 ]])"
      ]
     },
     "execution_count": 11,
     "metadata": {},
     "output_type": "execute_result"
    }
   ],
   "source": [
    "x[0, 0] # もしくは　x[0][0]"
   ]
  },
  {
   "cell_type": "markdown",
   "metadata": {},
   "source": [
    "### im2colによる展開"
   ]
  },
  {
   "cell_type": "code",
   "execution_count": 13,
   "metadata": {
    "collapsed": true
   },
   "outputs": [],
   "source": [
    "from common.util import im2col\n",
    "\n",
    "class Convolution:\n",
    "    def __init__(self, W, b, stride=1, pad=0):\n",
    "        self.W = W\n",
    "        self.b = b\n",
    "        self.stride = stride\n",
    "        self.pad = pad\n",
    "    \n",
    "    def forward(self, x):\n",
    "        FN, C, FH, FW = self.W.shape\n",
    "        N, C, H, W = x.shape\n",
    "        out_h = int(1 + (H + 2 * self.pad - FH) / self.stride)\n",
    "        out_w = int(1 + (W + 2 * self.pad -FW) / self.stride)\n",
    "        \n",
    "        col = im2col(x, FH, FW, self.stride, self.pad)\n",
    "        col_W = self.w.reshape(FN, -1).T # フィルタの展開\n",
    "\n",
    "        out = np.dot(col, col_W) + self.b\n",
    "        \n",
    "        out = out.reshape(N, out_h, out_w, -1).transpose(0, 3, 1, 2) # カラムの順番を元の順番に戻す\n",
    "        "
   ]
  },
  {
   "cell_type": "code",
   "execution_count": 14,
   "metadata": {
    "collapsed": true
   },
   "outputs": [],
   "source": [
    "class Pooling:\n",
    "    def __init__(self, pool_h, pool_w, stride=1, pad=0):\n",
    "        self.pool_h = pool_h\n",
    "        self.pool_w = pool_w\n",
    "        self.stride = stride\n",
    "        self.pad = pad \n",
    "    \n",
    "    def forward(self, x):\n",
    "        N, C, H, W = x.shape\n",
    "        out_h = int(1 + (H - self.pool_h) / self.stride)\n",
    "        out_w = int(1 + (H - self.pool_w) / self.stride)\n",
    "        \n",
    "        # 展開(1)\n",
    "        col = im2col(x, self.pool_h, self.pool_w, self.stride, self.pad)\n",
    "        col = col.reshape(-1, self.pool_h * self.pool_w)\n",
    "        \n",
    "        # 最大値(2)\n",
    "        out = np.max(col, axis=1)\n",
    "        \n",
    "        # 整形(3)\n",
    "        out = out.reshape(N, out_h, out_w, C).transpose(0, 3, 1, 2)\n",
    "        \n",
    "        return out"
   ]
  },
  {
   "cell_type": "markdown",
   "metadata": {},
   "source": [
    "<img src=\"screenshot/pooling_layer.png\">\n",
    "\n",
    "- 重みレイヤのサイズ分の区画を、1行に展開\n",
    "- 行の中でpooling1列ののデータへ\n",
    "- reshapeして出力データの形に変更する\n"
   ]
  },
  {
   "cell_type": "markdown",
   "metadata": {},
   "source": [
    "## CNNの実装\n",
    "\n",
    "「Convolution - ReLU - Pooling - Affine - ReLU - Affine - Softmax」のかたちでMNISTを解いていく\n",
    "\n"
   ]
  },
  {
   "cell_type": "code",
   "execution_count": null,
   "metadata": {
    "collapsed": true
   },
   "outputs": [],
   "source": []
  }
 ],
 "metadata": {
  "kernelspec": {
   "display_name": "Python 3",
   "language": "python",
   "name": "python3"
  },
  "language_info": {
   "codemirror_mode": {
    "name": "ipython",
    "version": 3
   },
   "file_extension": ".py",
   "mimetype": "text/x-python",
   "name": "python",
   "nbconvert_exporter": "python",
   "pygments_lexer": "ipython3",
   "version": "3.6.0"
  }
 },
 "nbformat": 4,
 "nbformat_minor": 2
}
